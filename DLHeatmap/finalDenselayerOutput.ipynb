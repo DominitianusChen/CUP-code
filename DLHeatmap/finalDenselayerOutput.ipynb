{
 "cells": [
  {
   "cell_type": "code",
   "execution_count": null,
   "metadata": {
    "pycharm": {
     "is_executing": true
    }
   },
   "outputs": [],
   "source": [
    "import torch\n",
    "from torchvision.models import DenseNet\n",
    "import numpy as np\n",
    "import os\n",
    "import matplotlib.pyplot as plt\n",
    "from torch.utils.data import DataLoader\n",
    "import tables\n",
    "import random\n",
    "import cv2\n",
    "import glob\n",
    "import random\n",
    "import pandas as pd\n",
    "import re"
   ]
  },
  {
   "cell_type": "code",
   "execution_count": null,
   "metadata": {
    "pycharm": {
     "is_executing": true,
     "name": "#%%\n"
    }
   },
   "outputs": [],
   "source": [
    "dataname=\"CUP010722\"\n",
    "gpuid=0\n",
    "\n",
    "# --- densenet params\n",
    "#these parameters get fed directly into the densenet class, and more description of them can be discovered there\n",
    "num_classes=4    #number of classes in the data mask that we'll aim to predict\n",
    "in_channels= 3  #input channel of the data, RGB = 3\n",
    "\n",
    "\n",
    "growth_rate=32 \n",
    "block_config=(2, 2, 2, 2)\n",
    "num_init_features=64\n",
    "bn_size=4\n",
    "drop_rate=0.5\n",
    "batch_size=128\n",
    "patch_size=224\n",
    "random.seed(7654788126099255772) \n",
    "print(torch.cuda.get_device_properties(gpuid))\n",
    "torch.cuda.set_device(gpuid)\n",
    "device = torch.device(f'cuda:{gpuid}' if torch.cuda.is_available() else 'cpu')\n",
    "\n",
    "# phases = [\"val\"] #how many phases did we create databases for?\n",
    "# validation_phases= [\"val\"] #when should we do valiation? note that validation is *very* time consuming, so as opposed to doing for both training and validation, we do it only for vlaidation at the end of the epoch\n",
    "#                            #additionally, using simply [], will skip validation entirely, drastically speeding things up\n",
    "\n"
   ]
  },
  {
   "cell_type": "code",
   "execution_count": null,
   "metadata": {
    "pycharm": {
     "is_executing": true,
     "name": "#%%\n"
    }
   },
   "outputs": [],
   "source": [
    "model = DenseNet(growth_rate=growth_rate, block_config=block_config,\n",
    "                 num_init_features=num_init_features, \n",
    "                 bn_size=bn_size, \n",
    "                 drop_rate=drop_rate, \n",
    "                 num_classes=num_classes).to(device)\n",
    "print(f\"total params: \\t{sum([np.prod(p.size()) for p in model.parameters()])}\")"
   ]
  },
  {
   "cell_type": "code",
   "execution_count": null,
   "metadata": {
    "pycharm": {
     "is_executing": true,
     "name": "#%%\n"
    }
   },
   "outputs": [],
   "source": [
    "class LayerActivations():\n",
    "    features=None\n",
    "    def __init__(self,layer):\n",
    "        self.hook = layer.register_forward_hook(self.hook_fn)\n",
    "    def hook_fn(self,module,input,output):\n",
    "        self.features = output.cpu()\n",
    "    def remove(self):\n",
    "        self.hook.remove()\n",
    "\n"
   ]
  },
  {
   "cell_type": "code",
   "execution_count": null,
   "metadata": {
    "pycharm": {
     "is_executing": true,
     "name": "#%%\n"
    }
   },
   "outputs": [],
   "source": [
    "checkpoint = torch.load(f\"{dataname}_densenet_best_model.pth\")\n",
    "model.load_state_dict(checkpoint[\"model_dict\"])\n",
    "\n"
   ]
  },
  {
   "cell_type": "code",
   "execution_count": null,
   "metadata": {
    "pycharm": {
     "is_executing": true
    }
   },
   "outputs": [],
   "source": [
    "\n",
    "#helper function for visualization\n",
    "def plot_kernels(tensor, num_cols=8 ,cmap=\"gray\"):\n",
    "    if not len(tensor.shape)==4:\n",
    "        raise Exception(\"assumes a 4D tensor\")\n",
    "#    if not tensor.shape[1]==3:\n",
    "#        raise Exception(\"last dim needs to be 3 to plot\")\n",
    "    num_kernels = tensor.shape[0] * tensor.shape[1]\n",
    "    num_rows = 1+ num_kernels // num_cols\n",
    "    fig = plt.figure(figsize=(num_cols,num_rows))\n",
    "    i=0\n",
    "    t=tensor.data.numpy()\n",
    "    for t1 in t:\n",
    "        for t2 in t1:\n",
    "            i+=1\n",
    "            ax1 = fig.add_subplot(num_rows,num_cols,i)\n",
    "            ax1.imshow(t2 , cmap=cmap)\n",
    "            ax1.axis('off')\n",
    "            ax1.set_xticklabels([])\n",
    "            ax1.set_yticklabels([])\n",
    "\n",
    "    plt.subplots_adjust(wspace=0.1, hspace=0.1)\n",
    "    plt.show()\n"
   ]
  },
  {
   "cell_type": "code",
   "execution_count": null,
   "metadata": {
    "pycharm": {
     "is_executing": true
    }
   },
   "outputs": [],
   "source": [
    "#Final block Layer 2 \n",
    "#w = model.features.denseblock2.denselayer1.conv2\n",
    "#final layer before classification\n",
    "w = model.features.norm5\n"
   ]
  },
  {
   "cell_type": "code",
   "execution_count": null,
   "metadata": {},
   "outputs": [],
   "source": []
  },
  {
   "cell_type": "code",
   "execution_count": null,
   "metadata": {
    "pycharm": {
     "is_executing": true
    }
   },
   "outputs": [],
   "source": [
    "data = model.classifier.weight.cpu().detach().numpy()\n",
    "dfData = pd.DataFrame(np.absolute(data)).T\n",
    "print(dfData)\n",
    "dfData.to_csv('weight.csv',index=False)\n",
    "criteria = dfData[0]>=0.09227\n",
    "idxKept = criteria.index[criteria].T.tolist()"
   ]
  },
  {
   "cell_type": "code",
   "execution_count": null,
   "metadata": {
    "pycharm": {
     "is_executing": true
    }
   },
   "outputs": [],
   "source": [
    "dr=LayerActivations(w)\n"
   ]
  },
  {
   "cell_type": "code",
   "execution_count": null,
   "metadata": {
    "pycharm": {
     "is_executing": true
    }
   },
   "outputs": [],
   "source": [
    "fname = 'E:\\\\Esophagus\\\\DenseNetTrain224NormalAbnormal\\\\NormalBE\\\\867;1141_4033_9409.png'\n",
    "img=cv2.cvtColor(cv2.imread(fname),cv2.COLOR_BGR2RGB)\n",
    "img\n",
    "plt.imshow(img)"
   ]
  },
  {
   "cell_type": "code",
   "execution_count": null,
   "metadata": {
    "pycharm": {
     "is_executing": true
    }
   },
   "outputs": [],
   "source": [
    "#img2 = plt.imread('E:\\\\Esophagus\\\\DenseNetTrain224NormalAbnormal\\\\NormalBE\\\\867;1141_4033_9409.png')\n",
    "#plt.imshow(img2)"
   ]
  },
  {
   "cell_type": "code",
   "execution_count": null,
   "metadata": {
    "pycharm": {
     "is_executing": true
    },
    "scrolled": true
   },
   "outputs": [],
   "source": [
    "dr"
   ]
  },
  {
   "cell_type": "code",
   "execution_count": null,
   "metadata": {
    "pycharm": {
     "is_executing": true
    }
   },
   "outputs": [],
   "source": [
    "output=model(torch.from_numpy(np.transpose(img[None,::],(0,3,1,2))).to(device,dtype=torch.float))"
   ]
  },
  {
   "cell_type": "code",
   "execution_count": null,
   "metadata": {
    "pycharm": {
     "is_executing": true
    },
    "scrolled": true
   },
   "outputs": [],
   "source": [
    "plot_kernels(dr.features,8,cmap=\"rainbow\")"
   ]
  },
  {
   "cell_type": "code",
   "execution_count": null,
   "metadata": {
    "pycharm": {
     "is_executing": true
    }
   },
   "outputs": [],
   "source": [
    "feats = dr.features.detach().numpy()\n",
    "feats = feats[:,idxKept,:,:]\n"
   ]
  },
  {
   "cell_type": "code",
   "execution_count": null,
   "metadata": {
    "pycharm": {
     "is_executing": true
    }
   },
   "outputs": [],
   "source": [
    "ooo = np.vstack((feats,feats))\n",
    "print(ooo.shape)"
   ]
  },
  {
   "cell_type": "code",
   "execution_count": null,
   "metadata": {},
   "outputs": [],
   "source": [
    "asdas = torch.flatten(torch.from_numpy(ooo[1,:]))\n",
    "print(asdas.numpy().shape[0])"
   ]
  },
  {
   "cell_type": "code",
   "execution_count": null,
   "metadata": {
    "pycharm": {
     "is_executing": true
    }
   },
   "outputs": [],
   "source": [
    "#output=model(torch.from_numpy(np.transpose(img2[None,::],(0,3,1,2))).to(device,dtype=torch.float))\n",
    "#plot_kernels(dr.features,8,cmap=\"rainbow\")"
   ]
  },
  {
   "cell_type": "code",
   "execution_count": null,
   "metadata": {
    "pycharm": {
     "is_executing": true
    }
   },
   "outputs": [],
   "source": [
    "# abnormalTable = pd.read_excel('E:\\\\Esophagus\\\\Updated Worksheet for Imagingy.xlsx',\n",
    "#                               sheet_name='Abnormal0422', usecols='A,F')\n",
    "# normalTable = pd.read_excel('E:\\\\Esophagus\\\\Updated Worksheet for Imagingy.xlsx',\n",
    "#                             sheet_name='NormaBE', usecols='B,C')\n",
    "# abnormalTable = abnormalTable.dropna()\n",
    "# normalTable = normalTable.dropna()\n",
    "# dataTable = normalTable.append(abnormalTable, ignore_index=True)\n",
    "# abnormalImageDir = glob.glob('E:\\\\Esophagus\\\\DenseNetTrain224NormalAbnormal\\\\AbnormalBE\\\\*.png')\n",
    "normalImageDir = glob.glob('E:\\\\MvP\\\\FinalExperimentWithPancreas\\\\NewRNG\\\\Run3\\\\DeepLearningHeatmap\\\\OrganSiteClassifying\\\\**\\\\**\\\\*.png')\n",
    "# normalImageDir.extend(abnormalImageDir)\n",
    "imageDir = normalImageDir\n",
    "feats = np.zeros((len(imageDir), 6272))\n",
    "label = []\n",
    "imgName = []"
   ]
  },
  {
   "cell_type": "code",
   "execution_count": null,
   "metadata": {},
   "outputs": [],
   "source": [
    "normalImageDir"
   ]
  },
  {
   "cell_type": "code",
   "execution_count": null,
   "metadata": {
    "pycharm": {
     "is_executing": true
    }
   },
   "outputs": [],
   "source": [
    "from tqdm import tqdm_notebook\n",
    "for i in tqdm_notebook(range(len(imageDir))):\n",
    "    #image = cv2.cvtColor(cv2.imread(imageDir[i]),cv2.COLOR_BGR2RGB)\n",
    "    image = plt.imread(imageDir[i])\n",
    "    output=model(torch.from_numpy(np.transpose(image[None,::],(0,3,1,2))).to(device,dtype=torch.float))\n",
    "    ff = dr.features.detach().numpy()\n",
    "    feats[i,:] = np.reshape(ff[:,idxKept,:,:], [1, 6272 ])\n"
   ]
  },
  {
   "cell_type": "code",
   "execution_count": null,
   "metadata": {
    "pycharm": {
     "is_executing": true
    },
    "scrolled": true
   },
   "outputs": [],
   "source": [
    "imgName"
   ]
  },
  {
   "cell_type": "code",
   "execution_count": null,
   "metadata": {
    "pycharm": {
     "is_executing": true
    }
   },
   "outputs": [],
   "source": [
    "np.savez_compressed('E:\\\\MvP\\\\FinalExperimentWithPancreas\\\\NewRNG\\\\Run3\\\\DeepLearningHeatmap\\\\HandcraftFeats\\\\DLfeats\\\\dlFeats.npz',\n",
    "                    Feats=feats,\n",
    "                    Dir=normalImageDir)"
   ]
  },
  {
   "cell_type": "code",
   "execution_count": null,
   "metadata": {
    "pycharm": {
     "is_executing": true
    }
   },
   "outputs": [],
   "source": [
    "info = dir(model.features.norm5)"
   ]
  },
  {
   "cell_type": "code",
   "execution_count": null,
   "metadata": {
    "pycharm": {
     "is_executing": true
    }
   },
   "outputs": [],
   "source": [
    "info"
   ]
  },
  {
   "cell_type": "code",
   "execution_count": null,
   "metadata": {
    "pycharm": {
     "is_executing": true
    },
    "scrolled": true
   },
   "outputs": [],
   "source": [
    "model.eval"
   ]
  },
  {
   "cell_type": "code",
   "execution_count": null,
   "metadata": {
    "pycharm": {
     "name": "#%%\n"
    }
   },
   "outputs": [],
   "source": [
    "np.savez_compressed('E:\\\\Esophagus\\\\DenseNetTrain224NormalAbnormal\\\\umapFeatureImgName',\n",
    "                    imgName=imgName)"
   ]
  },
  {
   "cell_type": "code",
   "execution_count": null,
   "metadata": {
    "pycharm": {
     "name": "#%%\n"
    }
   },
   "outputs": [],
   "source": []
  },
  {
   "cell_type": "code",
   "execution_count": null,
   "metadata": {},
   "outputs": [],
   "source": []
  },
  {
   "cell_type": "code",
   "execution_count": null,
   "metadata": {},
   "outputs": [],
   "source": []
  }
 ],
 "metadata": {
  "kernelspec": {
   "display_name": "Python 3",
   "language": "python",
   "name": "python3"
  },
  "language_info": {
   "codemirror_mode": {
    "name": "ipython",
    "version": 3
   },
   "file_extension": ".py",
   "mimetype": "text/x-python",
   "name": "python",
   "nbconvert_exporter": "python",
   "pygments_lexer": "ipython3",
   "version": "3.7.4"
  },
  "pycharm": {
   "stem_cell": {
    "cell_type": "raw",
    "metadata": {
     "collapsed": false
    },
    "source": []
   }
  }
 },
 "nbformat": 4,
 "nbformat_minor": 1
}

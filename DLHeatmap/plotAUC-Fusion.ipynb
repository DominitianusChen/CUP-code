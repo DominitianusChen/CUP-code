{
 "cells": [
  {
   "cell_type": "code",
   "execution_count": 37,
   "metadata": {
    "pycharm": {
     "is_executing": true
    }
   },
   "outputs": [],
   "source": [
    "import numpy as np\n",
    "import matplotlib.pyplot as plt\n",
    "from sklearn import metrics\n",
    "from sklearn import svm, datasets\n",
    "from sklearn.metrics import auc\n",
    "from sklearn.metrics import RocCurveDisplay\n",
    "from sklearn.model_selection import StratifiedKFold\n",
    "import glob\n",
    "import tables"
   ]
  },
  {
   "cell_type": "code",
   "execution_count": 33,
   "metadata": {},
   "outputs": [],
   "source": [
    "x = np.load('E:\\\\MvP\\\\FinalExperimentWithPancreas\\\\NewRNG\\\\Run3\\\\DeepLearningHeatmap\\\\OrganSiteClassifying\\\\FusionNew\\\\Test1Out\\\\classPred.npz')\n",
    "classScore = x['x']\n",
    "numClassLabel = [0, 1, 2, 3] # [\"Colon\",\"Esophagus\", \"Breast\",  \"Pancreas\"]\n",
    "classLabel = [\"Colon\",\"Esophagus\", \"Breast\",  \"Pancreas\"]"
   ]
  },
  {
   "cell_type": "code",
   "execution_count": 34,
   "metadata": {},
   "outputs": [],
   "source": [
    "# base_path = 'E:\\\\MvP\\\\FinalExperimentWithPancreas\\\\NewRNG\\\\Run3\\\\DeepLearningHeatmap\\\\OrganSiteClassifying\\\\Test\\\\**\\\\'\n",
    "# input_pattern = '*.png'\n",
    "# files = glob.glob(base_path + input_pattern)\n",
    "# DLdir = np.array(files)"
   ]
  },
  {
   "cell_type": "code",
   "execution_count": 38,
   "metadata": {},
   "outputs": [],
   "source": [
    "testTable = tables.open_file('CUPBinlinFusion_Test.pytable')"
   ]
  },
  {
   "cell_type": "code",
   "execution_count": 41,
   "metadata": {},
   "outputs": [
    {
     "data": {
      "text/plain": [
       "14502"
      ]
     },
     "execution_count": 41,
     "metadata": {},
     "output_type": "execute_result"
    }
   ],
   "source": [
    "len(testTable.root.filenames)"
   ]
  },
  {
   "cell_type": "code",
   "execution_count": null,
   "metadata": {},
   "outputs": [],
   "source": []
  },
  {
   "cell_type": "code",
   "execution_count": null,
   "metadata": {},
   "outputs": [],
   "source": [
    "\n"
   ]
  },
  {
   "cell_type": "code",
   "execution_count": 47,
   "metadata": {},
   "outputs": [
    {
     "data": {
      "text/plain": [
       "'79M_100353_12289_43.png'"
      ]
     },
     "execution_count": 47,
     "metadata": {},
     "output_type": "execute_result"
    }
   ],
   "source": [
    "testTable.root.filenames[i].decode().split('\\\\')[-1]"
   ]
  },
  {
   "cell_type": "code",
   "execution_count": null,
   "metadata": {},
   "outputs": [],
   "source": []
  },
  {
   "cell_type": "code",
   "execution_count": 48,
   "metadata": {},
   "outputs": [],
   "source": [
    "trueLabel = np.zeros((classScore.shape[0],), dtype=float)\n",
    "caseID = []\n",
    "for i in range(len(testTable.root.filenames)):\n",
    "    nn =  testTable.root.filenames[i].decode().split('\\\\')[-1]\n",
    "    caseID.append(nn.split('_')[0])\n",
    "    fname = files[i].strip()\n",
    "    if \"Colon\" in fname:\n",
    "        trueLabel[i] = 0\n",
    "    elif \"Esophagus\" in fname:\n",
    "        trueLabel[i] = 1\n",
    "    elif \"Breast\" in fname:\n",
    "        trueLabel[i] = 2    \n",
    "    elif \"Pancreas\" in fname:\n",
    "        trueLabel[i] = 3    \n"
   ]
  },
  {
   "cell_type": "code",
   "execution_count": 49,
   "metadata": {},
   "outputs": [],
   "source": [
    "cID = np.array(caseID)"
   ]
  },
  {
   "cell_type": "code",
   "execution_count": 50,
   "metadata": {},
   "outputs": [],
   "source": [
    "score = np.zeros((classScore.shape[0],4), dtype=float)\n"
   ]
  },
  {
   "cell_type": "code",
   "execution_count": 51,
   "metadata": {},
   "outputs": [],
   "source": [
    "for i in range(classScore.shape[0]):\n",
    "    ss = classScore[i,:,:]\n",
    "    tileClass = np.argmax(ss, axis=1)\n",
    "    predc,predccounts=np.unique(tileClass, return_counts=True)\n",
    "    for c,cc in zip(predc,predccounts):\n",
    "        score[i,c] = cc/(ss.shape[0])"
   ]
  },
  {
   "cell_type": "code",
   "execution_count": 52,
   "metadata": {},
   "outputs": [
    {
     "data": {
      "text/plain": [
       "(14502,)"
      ]
     },
     "execution_count": 52,
     "metadata": {},
     "output_type": "execute_result"
    }
   ],
   "source": [
    "prediction = np.argmax(score,1)\n",
    "prediction.shape"
   ]
  },
  {
   "cell_type": "code",
   "execution_count": 53,
   "metadata": {},
   "outputs": [],
   "source": [
    "fpr = dict()\n",
    "tpr = dict()\n",
    "roc_auc = dict()\n",
    "colorsRaw = 'r', 'b', 'g', 'orange'\n",
    "for i in numClassLabel:\n",
    "    fpr[i], tpr[i], _ = metrics.roc_curve(trueLabel, score[:,i], pos_label=i)\n",
    "    roc_auc[i] = metrics.auc(fpr[i], tpr[i])"
   ]
  },
  {
   "cell_type": "code",
   "execution_count": 54,
   "metadata": {},
   "outputs": [
    {
     "data": {
      "text/plain": [
       "{0: 0.5087674406354998,\n",
       " 1: 0.5028978374748996,\n",
       " 2: 0.5045832768916433,\n",
       " 3: 0.5012920915839698}"
      ]
     },
     "execution_count": 54,
     "metadata": {},
     "output_type": "execute_result"
    }
   ],
   "source": [
    "roc_auc"
   ]
  },
  {
   "cell_type": "code",
   "execution_count": 55,
   "metadata": {},
   "outputs": [
    {
     "data": {
      "image/png": "[encoded data removed]",
      "text/plain": [
       "<Figure size 432x288 with 1 Axes>"
      ]
     },
     "metadata": {
      "needs_background": "light"
     },
     "output_type": "display_data"
    }
   ],
   "source": [
    "lw = 2\n",
    "for i, color in zip(range(4), colorsRaw):\n",
    "    plt.plot(\n",
    "        fpr[i],\n",
    "        tpr[i],\n",
    "        color=color,\n",
    "        lw=lw,\n",
    "        label=f\"ROC curve of class {classLabel[i]} (area = {roc_auc[i]:0.2f})\"\n",
    "    )\n",
    "\n",
    "plt.plot([0, 1], [0, 1], \"k--\", lw=lw)\n",
    "plt.xlim([0.0, 1.0])\n",
    "plt.ylim([0.0, 1.05])\n",
    "plt.xlabel(\"False Positive Rate\")\n",
    "plt.ylabel(\"True Positive Rate\")\n",
    "plt.title(\"ROC for each class\")\n",
    "plt.legend(bbox_to_anchor=(1.25,0), loc=\"lower right\")\n",
    "plt.show()"
   ]
  },
  {
   "cell_type": "code",
   "execution_count": 56,
   "metadata": {},
   "outputs": [],
   "source": [
    "# np.vstack\n",
    "patientScore = np.empty((0,4),dtype = float)\n",
    "truePatientLabel = np.empty((0,),dtype = float)\n",
    "for i in range(4):\n",
    "    crit = trueLabel == i\n",
    "    cc_same_organ = cID[crit]\n",
    "    predSameOrgan = prediction[crit]\n",
    "    uniqueCaseID = np.unique(cc_same_organ)\n",
    "    ll = np.zeros((len(uniqueCaseID,)))+i\n",
    "    truePatientLabel = np.append(truePatientLabel,ll,axis=0)\n",
    "    for j in uniqueCaseID:\n",
    "        ucID = j\n",
    "        critID = cc_same_organ == ucID\n",
    "        predSameID = predSameOrgan[critID]\n",
    "#         crit0 = predSameID == 0\n",
    "#         crit1 = predSameID == 1\n",
    "#         crit2 = predSameID == 2\n",
    "#         crit3 = predSameID == 3\n",
    "        sTemp = np.array([[sum(predSameID == x) for x in range(4)]])/len(predSameID)\n",
    "        patientScore = np.append(patientScore,sTemp,axis=0)\n",
    "    \n",
    "        "
   ]
  },
  {
   "cell_type": "code",
   "execution_count": 57,
   "metadata": {},
   "outputs": [
    {
     "data": {
      "text/plain": [
       "(212,)"
      ]
     },
     "execution_count": 57,
     "metadata": {},
     "output_type": "execute_result"
    }
   ],
   "source": [
    "truePatientLabel.shape"
   ]
  },
  {
   "cell_type": "code",
   "execution_count": 58,
   "metadata": {},
   "outputs": [
    {
     "data": {
      "text/plain": [
       "(212, 4)"
      ]
     },
     "execution_count": 58,
     "metadata": {},
     "output_type": "execute_result"
    }
   ],
   "source": [
    "patientScore.shape"
   ]
  },
  {
   "cell_type": "code",
   "execution_count": 59,
   "metadata": {
    "pycharm": {
     "name": "#%%\n"
    }
   },
   "outputs": [],
   "source": [
    "np.savetxt(\"patientScore.csv\", patientScore, delimiter=\",\")"
   ]
  },
  {
   "cell_type": "code",
   "execution_count": 60,
   "metadata": {},
   "outputs": [],
   "source": [
    "fpr_patient = dict()\n",
    "tpr_patient = dict()\n",
    "roc_auc_patient = dict()\n",
    "colorsRaw = 'r', 'b', 'g', 'orange'\n",
    "for i in numClassLabel:\n",
    "    fpr_patient[i], tpr_patient[i], _ = metrics.roc_curve(truePatientLabel, patientScore[:,i], pos_label=i)\n",
    "    roc_auc_patient[i] = metrics.auc(fpr_patient[i], tpr_patient[i])"
   ]
  },
  {
   "cell_type": "code",
   "execution_count": 61,
   "metadata": {},
   "outputs": [],
   "source": [
    "fpr_patient = dict()\n",
    "tpr_patient = dict()\n",
    "roc_auc_patient = dict()\n",
    "colorsRaw = 'r', 'b', 'g', 'orange'\n",
    "for i in numClassLabel:\n",
    "    fpr_patient[i], tpr_patient[i], _ = metrics.roc_curve(truePatientLabel, patientScore[:,i], pos_label=i)\n",
    "    roc_auc_patient[i] = metrics.auc(fpr_patient[i], tpr_patient[i])"
   ]
  },
  {
   "cell_type": "code",
   "execution_count": 62,
   "metadata": {},
   "outputs": [
    {
     "data": {
      "text/plain": [
       "{0: 0.5351617440225035,\n",
       " 1: 0.5171472647442743,\n",
       " 2: 0.5589177643289427,\n",
       " 3: 0.4716346153846154}"
      ]
     },
     "execution_count": 62,
     "metadata": {},
     "output_type": "execute_result"
    }
   ],
   "source": [
    "roc_auc_patient"
   ]
  },
  {
   "cell_type": "code",
   "execution_count": 63,
   "metadata": {},
   "outputs": [
    {
     "data": {
      "image/png": "[encoded data removed]",
      "text/plain": [
       "<Figure size 432x288 with 1 Axes>"
      ]
     },
     "metadata": {
      "needs_background": "light"
     },
     "output_type": "display_data"
    }
   ],
   "source": [
    "for i, color in zip(range(4), colorsRaw):\n",
    "    plt.plot(\n",
    "        fpr_patient[i],\n",
    "        tpr_patient[i],\n",
    "        color=color,\n",
    "        lw=lw,\n",
    "        label=f\"ROC curve of class {classLabel[i]} (area = {roc_auc_patient[i]:0.2f})\"\n",
    "    )\n",
    "\n",
    "plt.plot([0, 1], [0, 1], \"k--\", lw=lw)\n",
    "plt.xlim([0.0, 1.0])\n",
    "plt.ylim([0.0, 1.05])\n",
    "plt.xlabel(\"False Positive Rate\")\n",
    "plt.ylabel(\"True Positive Rate\")\n",
    "plt.title(\"ROC for each class\")\n",
    "plt.legend(bbox_to_anchor=(1.25,0), loc=\"lower right\")\n",
    "plt.show()"
   ]
  },
  {
   "cell_type": "code",
   "execution_count": 20,
   "metadata": {},
   "outputs": [
    {
     "data": {
      "text/plain": [
       "5"
      ]
     },
     "execution_count": 20,
     "metadata": {},
     "output_type": "execute_result"
    }
   ],
   "source": [
    "cc"
   ]
  },
  {
   "cell_type": "code",
   "execution_count": null,
   "metadata": {
    "pycharm": {
     "name": "#%%\n"
    }
   },
   "outputs": [],
   "source": [
    "# Primary vs Mets"
   ]
  },
  {
   "cell_type": "code",
   "execution_count": 2,
   "metadata": {
    "pycharm": {
     "name": "#%%\n"
    }
   },
   "outputs": [],
   "source": [
    "x = np.load('E:\\\\MvP\\\\FinalExperimentWithPancreas\\\\NewRNG\\\\Run3\\\\PvM\\\\classPred.npz')\n",
    "classScore = x['x']\n",
    "numClassLabel = [0, 1] #[\"Colon\",\"Esophagus\", \"Breast\",  \"Pancreas\"]\n",
    "classLabel = [\"Pri\",\"Met\"]\n",
    "base_path = 'E:\\\\MvP\\\\FinalExperimentWithPancreas\\\\NewRNG\\\\Run3\\\\DeepLearningHeatmap\\\\PvM\\\\Test\\\\**\\\\'\n",
    "input_pattern = '*.png'\n",
    "files = glob.glob(base_path + input_pattern)"
   ]
  },
  {
   "cell_type": "code",
   "execution_count": 3,
   "metadata": {
    "pycharm": {
     "name": "#%%\n"
    }
   },
   "outputs": [],
   "source": [
    "trueLabel = np.zeros((classScore.shape[0],), dtype=float)\n",
    "caseID = []\n",
    "for i in range(len(files)):\n",
    "    nn =  files[i].split('\\\\')[-1]\n",
    "    caseID.append(nn.split('_')[0])\n",
    "    fname = files[i].strip()\n",
    "    if \"Pri\" in fname:\n",
    "        trueLabel[i] = 0\n",
    "    elif \"Met\" in fname:\n",
    "        trueLabel[i] = 1\n",
    "\n"
   ]
  },
  {
   "cell_type": "code",
   "execution_count": 4,
   "metadata": {
    "pycharm": {
     "name": "#%%\n"
    }
   },
   "outputs": [],
   "source": [
    "cID = np.array(caseID)\n",
    "score = np.zeros((classScore.shape[0],2), dtype=float)\n",
    "for i in range(classScore.shape[0]):\n",
    "    ss = classScore[i,:,:]\n",
    "    tileClass = np.argmax(ss, axis=1)\n",
    "    predc,predccounts=np.unique(tileClass, return_counts=True)\n",
    "    for c,cc in zip(predc,predccounts):\n",
    "        score[i,c] = cc/(ss.shape[0])"
   ]
  },
  {
   "cell_type": "code",
   "execution_count": 5,
   "metadata": {
    "pycharm": {
     "name": "#%%\n"
    }
   },
   "outputs": [
    {
     "data": {
      "text/plain": [
       "(39315,)"
      ]
     },
     "execution_count": 5,
     "metadata": {},
     "output_type": "execute_result"
    }
   ],
   "source": [
    "prediction = np.argmax(score,1)\n",
    "prediction.shape"
   ]
  },
  {
   "cell_type": "code",
   "execution_count": 6,
   "metadata": {
    "pycharm": {
     "name": "#%%\n"
    }
   },
   "outputs": [],
   "source": [
    "fpr = dict()\n",
    "tpr = dict()\n",
    "roc_auc = dict()\n",
    "colorsRaw = 'r', 'b', 'g', 'orange'\n",
    "for i in numClassLabel:\n",
    "    fpr[i], tpr[i], _ = metrics.roc_curve(trueLabel, score[:,i], pos_label=i)\n",
    "    roc_auc[i] = metrics.auc(fpr[i], tpr[i])"
   ]
  },
  {
   "cell_type": "code",
   "execution_count": 7,
   "metadata": {
    "pycharm": {
     "name": "#%%\n"
    }
   },
   "outputs": [
    {
     "data": {
      "text/plain": [
       "{0: 0.7507203366747753, 1: 0.7507203366747754}"
      ]
     },
     "execution_count": 7,
     "metadata": {},
     "output_type": "execute_result"
    }
   ],
   "source": [
    "roc_auc"
   ]
  },
  {
   "cell_type": "code",
   "execution_count": 8,
   "metadata": {
    "pycharm": {
     "name": "#%%\n"
    }
   },
   "outputs": [
    {
     "data": {
      "image/png": "[encoded data removed]",
      "text/plain": [
       "<Figure size 432x288 with 1 Axes>"
      ]
     },
     "metadata": {
      "needs_background": "light"
     },
     "output_type": "display_data"
    }
   ],
   "source": [
    "lw = 2\n",
    "for i, color in zip(range(1), colorsRaw):\n",
    "    plt.plot(\n",
    "        fpr[i],\n",
    "        tpr[i],\n",
    "        color=color,\n",
    "        lw=lw,\n",
    "        label=f\"ROC curve of MvP (area = {roc_auc[i]:0.2f})\"\n",
    "    )\n",
    "\n",
    "plt.plot([0, 1], [0, 1], \"k--\", lw=lw)\n",
    "plt.xlim([0.0, 1.0])\n",
    "plt.ylim([0.0, 1.05])\n",
    "plt.xlabel(\"False Positive Rate\")\n",
    "plt.ylabel(\"True Positive Rate\")\n",
    "plt.title(\"ROC for each class\")\n",
    "plt.legend(bbox_to_anchor=(1.25,0), loc=\"lower right\")\n",
    "plt.show()"
   ]
  },
  {
   "cell_type": "code",
   "execution_count": 23,
   "metadata": {
    "pycharm": {
     "name": "#%%\n"
    }
   },
   "outputs": [],
   "source": [
    "patientScore = np.empty((0,2),dtype = float)\n",
    "truePatientLabel = np.empty((0,),dtype = float)\n",
    "for i in range(2):\n",
    "    crit = trueLabel == i\n",
    "    cc_same_organ = cID[crit]\n",
    "    predSameOrgan = prediction[crit]\n",
    "    uniqueCaseID = np.unique(cc_same_organ)\n",
    "    ll = np.zeros((len(uniqueCaseID,)))+i\n",
    "    truePatientLabel = np.append(truePatientLabel,ll,axis=0)\n",
    "    for j in uniqueCaseID:\n",
    "        ucID = j\n",
    "        critID = cc_same_organ == ucID\n",
    "        predSameID = predSameOrgan[critID]\n",
    "#         crit0 = predSameID == 0\n",
    "#         crit1 = predSameID == 1\n",
    "#         crit2 = predSameID == 2\n",
    "#         crit3 = predSameID == 3\n",
    "        sTemp = np.array([[sum(predSameID == x) for x in range(2)]])/len(predSameID)\n",
    "        patientScore = np.append(patientScore,sTemp,axis=0)\n",
    "    \n",
    "        "
   ]
  },
  {
   "cell_type": "code",
   "execution_count": 24,
   "metadata": {
    "pycharm": {
     "name": "#%%\n"
    }
   },
   "outputs": [],
   "source": [
    "fpr_patient = dict()\n",
    "tpr_patient = dict()\n",
    "roc_auc_patient = dict()\n",
    "colorsRaw = 'r', 'b', 'g', 'orange'\n",
    "for i in numClassLabel:\n",
    "    fpr_patient[i], tpr_patient[i], _ = metrics.roc_curve(truePatientLabel, patientScore[:,i], pos_label=i)\n",
    "    roc_auc_patient[i] = metrics.auc(fpr[i], tpr[i])"
   ]
  },
  {
   "cell_type": "code",
   "execution_count": 25,
   "metadata": {},
   "outputs": [
    {
     "data": {
      "text/plain": [
       "{0: 0.7507203366747753, 1: 0.7507203366747754}"
      ]
     },
     "execution_count": 25,
     "metadata": {},
     "output_type": "execute_result"
    }
   ],
   "source": [
    "roc_auc_patient"
   ]
  },
  {
   "cell_type": "code",
   "execution_count": null,
   "metadata": {
    "pycharm": {
     "name": "#%%\n"
    }
   },
   "outputs": [],
   "source": [
    "for i, color in zip(range(1), colorsRaw):\n",
    "    plt.plot(\n",
    "        fpr_patient[i],\n",
    "        tpr_patient[i],\n",
    "        color=color,\n",
    "        lw=lw,\n",
    "        label=f\"ROC curve of MvP (area = {roc_auc_patient[i]:0.2f})\"\n",
    "    )\n",
    "\n",
    "plt.plot([0, 1], [0, 1], \"k--\", lw=lw)\n",
    "plt.xlim([0.0, 1.0])\n",
    "plt.ylim([0.0, 1.05])\n",
    "plt.xlabel(\"False Positive Rate\")\n",
    "plt.ylabel(\"True Positive Rate\")\n",
    "plt.title(\"ROC for each class\")\n",
    "plt.legend(bbox_to_anchor=(1.25,0), loc=\"lower right\")\n",
    "plt.show()"
   ]
  },
  {
   "cell_type": "code",
   "execution_count": null,
   "metadata": {
    "pycharm": {
     "name": "#%%\n"
    }
   },
   "outputs": [],
   "source": []
  },
  {
   "cell_type": "code",
   "execution_count": 26,
   "metadata": {
    "pycharm": {
     "name": "#%%\n"
    }
   },
   "outputs": [
    {
     "data": {
      "image/png": "[encoded data removed]",
      "text/plain": [
       "<Figure size 432x288 with 1 Axes>"
      ]
     },
     "metadata": {
      "needs_background": "light"
     },
     "output_type": "display_data"
    }
   ],
   "source": []
  },
  {
   "cell_type": "code",
   "execution_count": null,
   "metadata": {},
   "outputs": [],
   "source": []
  },
  {
   "cell_type": "code",
   "execution_count": null,
   "metadata": {},
   "outputs": [],
   "source": []
  }
 ],
 "metadata": {
  "kernelspec": {
   "display_name": "Python 3",
   "language": "python",
   "name": "python3"
  },
  "language_info": {
   "codemirror_mode": {
    "name": "ipython",
    "version": 3
   },
   "file_extension": ".py",
   "mimetype": "text/x-python",
   "name": "python",
   "nbconvert_exporter": "python",
   "pygments_lexer": "ipython3",
   "version": "3.7.4"
  },
  "pycharm": {
   "stem_cell": {
    "cell_type": "raw",
    "metadata": {
     "collapsed": false
    },
    "source": []
   }
  }
 },
 "nbformat": 4,
 "nbformat_minor": 1
}

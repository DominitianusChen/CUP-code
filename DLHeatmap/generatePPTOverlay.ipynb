{
 "cells": [
  {
   "cell_type": "code",
   "execution_count": 1,
   "metadata": {},
   "outputs": [],
   "source": [
    "from pptx import Presentation\n",
    "from pptx.util import Pt\n",
    "import glob\n",
    "from tqdm import tqdm"
   ]
  },
  {
   "cell_type": "code",
   "execution_count": 2,
   "metadata": {},
   "outputs": [],
   "source": [
    "prs = Presentation()\n",
    "blank_slide_layout = prs.slide_layouts[5]\n",
    "imgPath = glob.glob('E:\\\\tumorSeg\\\\NewColon\\\\Thumb\\\\*.png')\n"
   ]
  },
  {
   "cell_type": "code",
   "execution_count": 3,
   "metadata": {},
   "outputs": [
    {
     "name": "stderr",
     "output_type": "stream",
     "text": [
      "100%|██████████| 30/30 [00:00<00:00, 47.54it/s]\n"
     ]
    }
   ],
   "source": [
    "for file in tqdm(imgPath):\n",
    "    img_path = file\n",
    "    en = str.replace(file,'.png','.png')\n",
    "    if \"(\" in file:\n",
    "        nn = str.replace(file,' (','_(')\n",
    "    else:\n",
    "        nn = file\n",
    "    np = f'NucMask/{nn}'\n",
    "    ep = str.replace(en,'E:\\\\tumorSeg\\\\NewColon\\\\Thumb\\\\','E:\\\\tumorSeg\\\\NewColon\\\\Overlay\\\\')    \n",
    "    slide = prs.slides.add_slide(blank_slide_layout)\n",
    "    shapes = slide.shapes\n",
    "    title_shape = shapes.title\n",
    "    title_shape.text = file\n",
    "    sz = 600\n",
    "    left = Pt(1)\n",
    "    top = Pt(120)\n",
    "    height = Pt(sz)\n",
    "    pic = slide.shapes.add_picture(img_path, left, top, height=height)\n",
    "#     left = Pt(200)\n",
    "#     pic = slide.shapes.add_picture(np, left, top, height=height)\n",
    "    left = Pt(420)\n",
    "    pic = slide.shapes.add_picture(ep, left, top, height=height)\n",
    "\n",
    "prs.save('E:\\\\tumorSeg\\\\NewColon\\\\SegReview.pptx')"
   ]
  },
  {
   "cell_type": "code",
   "execution_count": 4,
   "metadata": {},
   "outputs": [
    {
     "data": {
      "text/plain": [
       "'E:\\\\tumorSeg\\\\NewColon\\\\Overlay\\\\6286;8828;A3P.png'"
      ]
     },
     "execution_count": 4,
     "metadata": {},
     "output_type": "execute_result"
    }
   ],
   "source": [
    "ep"
   ]
  },
  {
   "cell_type": "code",
   "execution_count": 5,
   "metadata": {},
   "outputs": [
    {
     "data": {
      "text/plain": [
       "'E:\\\\tumorSeg\\\\NewColon\\\\Thumb\\\\6286;8828;A3P.png'"
      ]
     },
     "execution_count": 5,
     "metadata": {},
     "output_type": "execute_result"
    }
   ],
   "source": [
    "file"
   ]
  },
  {
   "cell_type": "code",
   "execution_count": 6,
   "metadata": {},
   "outputs": [
    {
     "data": {
      "text/plain": [
       "'E:\\\\tumorSeg\\\\NewColon\\\\Thumb\\\\6286;8828;A3P.png'"
      ]
     },
     "execution_count": 6,
     "metadata": {},
     "output_type": "execute_result"
    }
   ],
   "source": [
    "nn"
   ]
  },
  {
   "cell_type": "code",
   "execution_count": 7,
   "metadata": {},
   "outputs": [],
   "source": [
    "# prs.save('E:\\\\tumorSeg\\\\NewColon\\\\SegReview.pptx')"
   ]
  },
  {
   "cell_type": "code",
   "execution_count": null,
   "metadata": {},
   "outputs": [],
   "source": []
  }
 ],
 "metadata": {
  "kernelspec": {
   "display_name": "Python 3",
   "language": "python",
   "name": "python3"
  },
  "language_info": {
   "codemirror_mode": {
    "name": "ipython",
    "version": 3
   },
   "file_extension": ".py",
   "mimetype": "text/x-python",
   "name": "python",
   "nbconvert_exporter": "python",
   "pygments_lexer": "ipython3",
   "version": "3.7.4"
  }
 },
 "nbformat": 4,
 "nbformat_minor": 4
}
